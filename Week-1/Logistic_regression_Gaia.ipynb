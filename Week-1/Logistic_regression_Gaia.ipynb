{
  "nbformat": 4,
  "nbformat_minor": 0,
  "metadata": {
    "colab": {
      "provenance": []
    },
    "kernelspec": {
      "name": "python3",
      "display_name": "Python 3"
    },
    "language_info": {
      "name": "python"
    }
  },
  "cells": [
    {
      "cell_type": "code",
      "execution_count": null,
      "metadata": {
        "id": "o2bm5QZ6xufg"
      },
      "outputs": [],
      "source": []
    },
    {
      "cell_type": "markdown",
      "source": [
        "# Loading Data"
      ],
      "metadata": {
        "id": "jtRj9SFNyACK"
      }
    },
    {
      "cell_type": "markdown",
      "source": [
        "I'll do a logistic regression with stellar data and their subsequent classification into main-sequence stars or white dwarfs. You can safely skip to the Logistic Regression heading if the data-gathering does not interest you :)\n"
      ],
      "metadata": {
        "id": "C3PsPjW7xvru"
      }
    },
    {
      "cell_type": "markdown",
      "source": [
        "Gaia is a spacecraft by ESA that collects data of stars.\n",
        "\n",
        "Gaia data is accessible through a Python module called astroquery, in a format very similar to SQL queries."
      ],
      "metadata": {
        "id": "F5rfMuBux4cZ"
      }
    },
    {
      "cell_type": "code",
      "source": [
        "!pip install astroquery\n"
      ],
      "metadata": {
        "colab": {
          "base_uri": "https://localhost:8080/"
        },
        "id": "86-TRNQZySY1",
        "outputId": "4892ad3e-4706-4ea8-ff08-ee434a892bcc"
      },
      "execution_count": 1,
      "outputs": [
        {
          "output_type": "stream",
          "name": "stdout",
          "text": [
            "Collecting astroquery\n",
            "  Downloading astroquery-0.4.6-py3-none-any.whl (4.5 MB)\n",
            "\u001b[2K     \u001b[90m━━━━━━━━━━━━━━━━━━━━━━━━━━━━━━━━━━━━━━━━\u001b[0m \u001b[32m4.5/4.5 MB\u001b[0m \u001b[31m14.9 MB/s\u001b[0m eta \u001b[36m0:00:00\u001b[0m\n",
            "\u001b[?25hRequirement already satisfied: numpy>=1.16 in /usr/local/lib/python3.10/dist-packages (from astroquery) (1.23.5)\n",
            "Requirement already satisfied: astropy>=4.0 in /usr/local/lib/python3.10/dist-packages (from astroquery) (5.3.2)\n",
            "Requirement already satisfied: requests>=2.4.3 in /usr/local/lib/python3.10/dist-packages (from astroquery) (2.31.0)\n",
            "Requirement already satisfied: beautifulsoup4>=4.3.2 in /usr/local/lib/python3.10/dist-packages (from astroquery) (4.11.2)\n",
            "Requirement already satisfied: html5lib>=0.999 in /usr/local/lib/python3.10/dist-packages (from astroquery) (1.1)\n",
            "Requirement already satisfied: keyring>=4.0 in /usr/lib/python3/dist-packages (from astroquery) (23.5.0)\n",
            "Collecting pyvo>=1.1 (from astroquery)\n",
            "  Downloading pyvo-1.4.2-py3-none-any.whl (888 kB)\n",
            "\u001b[2K     \u001b[90m━━━━━━━━━━━━━━━━━━━━━━━━━━━━━━━━━━━━━━\u001b[0m \u001b[32m888.9/888.9 kB\u001b[0m \u001b[31m28.0 MB/s\u001b[0m eta \u001b[36m0:00:00\u001b[0m\n",
            "\u001b[?25hRequirement already satisfied: pyerfa>=2.0 in /usr/local/lib/python3.10/dist-packages (from astropy>=4.0->astroquery) (2.0.0.3)\n",
            "Requirement already satisfied: PyYAML>=3.13 in /usr/local/lib/python3.10/dist-packages (from astropy>=4.0->astroquery) (6.0.1)\n",
            "Requirement already satisfied: packaging>=19.0 in /usr/local/lib/python3.10/dist-packages (from astropy>=4.0->astroquery) (23.1)\n",
            "Requirement already satisfied: soupsieve>1.2 in /usr/local/lib/python3.10/dist-packages (from beautifulsoup4>=4.3.2->astroquery) (2.5)\n",
            "Requirement already satisfied: six>=1.9 in /usr/local/lib/python3.10/dist-packages (from html5lib>=0.999->astroquery) (1.16.0)\n",
            "Requirement already satisfied: webencodings in /usr/local/lib/python3.10/dist-packages (from html5lib>=0.999->astroquery) (0.5.1)\n",
            "Requirement already satisfied: charset-normalizer<4,>=2 in /usr/local/lib/python3.10/dist-packages (from requests>=2.4.3->astroquery) (3.2.0)\n",
            "Requirement already satisfied: idna<4,>=2.5 in /usr/local/lib/python3.10/dist-packages (from requests>=2.4.3->astroquery) (3.4)\n",
            "Requirement already satisfied: urllib3<3,>=1.21.1 in /usr/local/lib/python3.10/dist-packages (from requests>=2.4.3->astroquery) (2.0.4)\n",
            "Requirement already satisfied: certifi>=2017.4.17 in /usr/local/lib/python3.10/dist-packages (from requests>=2.4.3->astroquery) (2023.7.22)\n",
            "Installing collected packages: pyvo, astroquery\n",
            "Successfully installed astroquery-0.4.6 pyvo-1.4.2\n"
          ]
        }
      ]
    },
    {
      "cell_type": "code",
      "source": [
        "import astropy.units as u\n",
        "from astroquery.gaia import Gaia\n",
        "import matplotlib.pyplot as plt\n",
        "import torch\n",
        "import torch.nn as nn\n",
        "import numpy as np\n",
        "from sklearn import datasets\n",
        "from sklearn.preprocessing import StandardScaler\n",
        "from sklearn.model_selection import train_test_split"
      ],
      "metadata": {
        "id": "Wu38lohuyc1A"
      },
      "execution_count": 2,
      "outputs": []
    },
    {
      "cell_type": "markdown",
      "source": [
        "# Obtaining data and visualizing it\n",
        "\n",
        "The cell below collects the requisite data for 10,000 nearest stars (details are unnecessary). In this case here, we can judge a star's age and stage in evolution roughly by looking at its  R  and  B  band magnitudes and its absolute magnitude.\n",
        "\n",
        "The plot uses precisely those parameters, and splits the stars into two distinct groups - a main diagonal line which is of the main sequence stars, and a lower small diagonal line which has white dwarfs."
      ],
      "metadata": {
        "id": "UGnNIlUYyeXa"
      }
    },
    {
      "cell_type": "code",
      "source": [
        "#Nearest 10000 stars\n",
        "query = '''select top 10000 g.source_id, g.parallax, g.phot_g_mean_mag, g.phot_bp_mean_mag, phot_rp_mean_mag,\n",
        "h.classprob_dsc_combmod_star as star_prob, h.classprob_dsc_combmod_whitedwarf as wd_prob\n",
        "from gaiadr3.gaia_source as g, gaiadr3.astrophysical_parameters as h\n",
        "where g.source_id = h.source_id\n",
        "and g.source_id is not null and g.parallax is not null and g.phot_g_mean_mag is not null and g.phot_bp_mean_mag is not null\n",
        "and g.phot_rp_mean_mag is not null\n",
        "and h.classprob_dsc_combmod_star is not null\n",
        "and h.classprob_dsc_combmod_whitedwarf is not null\n",
        "and g.parallax > 10\n",
        "and g.parallax_over_error > 100\n",
        "order by g.parallax desc'''\n",
        "\n",
        "job = Gaia.launch_job_async(query)\n",
        "r = job.get_results()\n",
        "\n",
        "appmags = r['phot_g_mean_mag']\n",
        "dist = 1000*np.reciprocal(r['parallax'])\n",
        "\n",
        "abmags = appmags + 5 - 5*np.log10(dist)\n",
        "g = r['phot_bp_mean_mag'] - r['phot_rp_mean_mag']\n",
        "\n",
        "\n",
        "plt.figure(figsize=(8,9))\n",
        "plt.scatter(g,abmags,s=1)\n",
        "plt.ylim(-10,20)\n",
        "plt.xlim(-1,4)\n",
        "plt.gca().invert_yaxis()\n",
        "plt.xlabel('Temperature (BP-RP)')\n",
        "plt.ylabel('Absolute Magnitude')\n",
        "plt.title('10,000 Nearest Stars')\n",
        "plt.show()"
      ],
      "metadata": {
        "colab": {
          "base_uri": "https://localhost:8080/",
          "height": 830
        },
        "id": "6pF3CuROywUL",
        "outputId": "10c8c6fb-f544-4871-c0f2-a6e38f9a0d52"
      },
      "execution_count": 3,
      "outputs": [
        {
          "output_type": "stream",
          "name": "stderr",
          "text": [
            "INFO:astroquery:Query finished.\n"
          ]
        },
        {
          "output_type": "stream",
          "name": "stdout",
          "text": [
            "INFO: Query finished. [astroquery.utils.tap.core]\n"
          ]
        },
        {
          "output_type": "display_data",
          "data": {
            "text/plain": [
              "<Figure size 800x900 with 1 Axes>"
            ],
            "image/png": "[encoded data removed]"
          },
          "metadata": {}
        }
      ]
    },
    {
      "cell_type": "code",
      "source": [
        "len(r)"
      ],
      "metadata": {
        "colab": {
          "base_uri": "https://localhost:8080/"
        },
        "id": "aW4TGDd1zA34",
        "outputId": "1900da5c-b2ba-4963-f12f-65a301d542fe"
      },
      "execution_count": 4,
      "outputs": [
        {
          "output_type": "execute_result",
          "data": {
            "text/plain": [
              "10000"
            ]
          },
          "metadata": {},
          "execution_count": 4
        }
      ]
    },
    {
      "cell_type": "markdown",
      "source": [
        "# **Logistic Regression**\n",
        "\n",
        "Our final data must have 3 input columns - absolute magnitude,  R  band magnitude and  B  band magnitude, and an output column with a  0  or  1  signifying that the candidate is a main sequence star or white dwarf respectively. Gaia gives us probability of each candidate being a star or white dwarf, we use those to assign  0  or  1 ."
      ],
      "metadata": {
        "id": "-GcSqLeizIvq"
      }
    },
    {
      "cell_type": "code",
      "source": [
        "X = []\n",
        "y = []\n",
        "for i in range(len(r)):\n",
        "  X.append([abmags[i],r['phot_rp_mean_mag'][i],r['phot_bp_mean_mag'][i]])\n",
        "  if r['star_prob'][i] > r['wd_prob'][i]:\n",
        "    y.append(0)\n",
        "  else:\n",
        "    y.append(1)\n",
        "X = np.array(X)\n",
        "y = np.array(y)"
      ],
      "metadata": {
        "id": "rCq7rcrazNn6"
      },
      "execution_count": 5,
      "outputs": []
    },
    {
      "cell_type": "markdown",
      "source": [
        "Let's also check the number of stars and white dwarfs in the sample. It won't do to have very very few of one kind."
      ],
      "metadata": {
        "id": "7kdWmXi6zSQY"
      }
    },
    {
      "cell_type": "code",
      "source": [
        "print(f'Number of stars = {list(y).count(0)}; Number of white dwarfs = {list(y).count(1)}')"
      ],
      "metadata": {
        "colab": {
          "base_uri": "https://localhost:8080/"
        },
        "id": "H5i8PhNbzV4s",
        "outputId": "71bd1732-300c-44d8-ab19-7ae70f1fe59a"
      },
      "execution_count": 6,
      "outputs": [
        {
          "output_type": "stream",
          "name": "stdout",
          "text": [
            "Number of stars = 9691; Number of white dwarfs = 309\n"
          ]
        }
      ]
    },
    {
      "cell_type": "markdown",
      "source": [
        "The numbers seem fair. We run the cell below to perform logistic regression and check the outputs. The accuracy is  0.9685 , which is a **96.85%**  accuracy in the model's predicted values and actual values in the test data."
      ],
      "metadata": {
        "id": "SsifWpH2zcP-"
      }
    },
    {
      "cell_type": "code",
      "source": [
        "# 0) Prepare data\n",
        "\n",
        "n_samples, n_features = X.shape\n",
        "#n_samples, n_features = 5000,3\n",
        "\n",
        "X_train, X_test, y_train, y_test = train_test_split(X, y, test_size=0.2, random_state=1234)\n",
        "\n",
        "# scale\n",
        "sc = StandardScaler()\n",
        "X_train = sc.fit_transform(X_train)\n",
        "X_test = sc.transform(X_test)\n",
        "\n",
        "X_train = torch.from_numpy(X_train.astype(np.float32))\n",
        "X_test = torch.from_numpy(X_test.astype(np.float32))\n",
        "y_train = torch.from_numpy(y_train.astype(np.float32))\n",
        "y_test = torch.from_numpy(y_test.astype(np.float32))\n",
        "\n",
        "y_train = y_train.view(y_train.shape[0], 1)\n",
        "y_test = y_test.view(y_test.shape[0], 1)\n",
        "\n",
        "# 1) Model\n",
        "# Linear model f = wx + b , sigmoid at the end\n",
        "class Model(nn.Module):\n",
        "    def __init__(self, n_input_features):\n",
        "        super(Model, self).__init__()\n",
        "        self.linear = nn.Linear(n_input_features, 1)\n",
        "\n",
        "    def forward(self, x):\n",
        "        y_pred = torch.sigmoid(self.linear(x))\n",
        "        return y_pred\n",
        "\n",
        "model = Model(n_features)\n",
        "\n",
        "# 2) Loss and optimizer\n",
        "num_epochs = 100\n",
        "learning_rate = 0.01\n",
        "criterion = nn.BCELoss()\n",
        "optimizer = torch.optim.SGD(model.parameters(), lr=learning_rate)\n",
        "\n",
        "# 3) Training loop\n",
        "for epoch in range(num_epochs):\n",
        "    # Forward pass and loss\n",
        "    y_pred = model(X_train)\n",
        "    loss = criterion(y_pred, y_train)\n",
        "\n",
        "    # Backward pass and update\n",
        "    loss.backward()\n",
        "    optimizer.step()\n",
        "\n",
        "    # zero grad before new step\n",
        "    optimizer.zero_grad()\n",
        "\n",
        "    if (epoch+1) % 10 == 0:\n",
        "        print(f'epoch: {epoch+1}, loss = {loss.item():.4f}')\n",
        "\n",
        "\n",
        "with torch.no_grad():\n",
        "    y_predicted = model(X_test)\n",
        "    y_predicted_cls = y_predicted.round()\n",
        "    acc = y_predicted_cls.eq(y_test).sum() / float(y_test.shape[0])\n",
        "    print(f'accuracy: {acc.item():.4f}')"
      ],
      "metadata": {
        "colab": {
          "base_uri": "https://localhost:8080/"
        },
        "id": "2oVw1O4xzgSx",
        "outputId": "b74b64f1-9af3-45b0-f635-3d53c7f59744"
      },
      "execution_count": 7,
      "outputs": [
        {
          "output_type": "stream",
          "name": "stdout",
          "text": [
            "epoch: 10, loss = 0.5608\n",
            "epoch: 20, loss = 0.5462\n",
            "epoch: 30, loss = 0.5322\n",
            "epoch: 40, loss = 0.5188\n",
            "epoch: 50, loss = 0.5061\n",
            "epoch: 60, loss = 0.4940\n",
            "epoch: 70, loss = 0.4824\n",
            "epoch: 80, loss = 0.4714\n",
            "epoch: 90, loss = 0.4608\n",
            "epoch: 100, loss = 0.4507\n",
            "accuracy: 0.9685\n"
          ]
        }
      ]
    },
    {
      "cell_type": "markdown",
      "source": [
        "# **Check for Stochastic Error**\n",
        "\n",
        "We know however that the accuracy largely depends on which sample points are used to find the gradient, so essentially random. We thus run the training and accuracy test 20 times using a loop to check if our first run's  **0.9685**  accuracy was by fluke or reliable."
      ],
      "metadata": {
        "id": "7-YHBdjRz0Bj"
      }
    },
    {
      "cell_type": "code",
      "source": [
        "# 0) Prepare data\n",
        "\n",
        "n_samples, n_features = X.shape\n",
        "#n_samples, n_features = 5000,3\n",
        "\n",
        "X_train, X_test, y_train, y_test = train_test_split(X, y, test_size=0.2, random_state=1234)\n",
        "\n",
        "# scale\n",
        "sc = StandardScaler()\n",
        "X_train = sc.fit_transform(X_train)\n",
        "X_test = sc.transform(X_test)\n",
        "\n",
        "X_train = torch.from_numpy(X_train.astype(np.float32))\n",
        "X_test = torch.from_numpy(X_test.astype(np.float32))\n",
        "y_train = torch.from_numpy(y_train.astype(np.float32))\n",
        "y_test = torch.from_numpy(y_test.astype(np.float32))\n",
        "\n",
        "y_train = y_train.view(y_train.shape[0], 1)\n",
        "y_test = y_test.view(y_test.shape[0], 1)\n",
        "\n",
        "# 1) Model\n",
        "# Linear model f = wx + b , sigmoid at the end\n",
        "class Model(nn.Module):\n",
        "    def __init__(self, n_input_features):\n",
        "        super(Model, self).__init__()\n",
        "        self.linear = nn.Linear(n_input_features, 1)\n",
        "\n",
        "    def forward(self, x):\n",
        "        y_pred = torch.sigmoid(self.linear(x))\n",
        "        return y_pred\n",
        "\n",
        "for j in range(20):\n",
        "\n",
        "  model = Model(n_features)\n",
        "  num_epochs = 100\n",
        "  learning_rate = 0.01\n",
        "  criterion = nn.BCELoss()\n",
        "  optimizer = torch.optim.SGD(model.parameters(), lr=learning_rate)\n",
        "\n",
        "  for epoch in range(num_epochs):\n",
        "      y_pred = model(X_train)\n",
        "      loss = criterion(y_pred, y_train)\n",
        "      loss.backward()\n",
        "      optimizer.step()\n",
        "      optimizer.zero_grad()\n",
        "\n",
        "  with torch.no_grad():\n",
        "      y_predicted = model(X_test)\n",
        "      y_predicted_cls = y_predicted.round()\n",
        "      acc = y_predicted_cls.eq(y_test).sum() / float(y_test.shape[0])\n",
        "      print(f'accuracy: {acc.item():.4f}')"
      ],
      "metadata": {
        "colab": {
          "base_uri": "https://localhost:8080/"
        },
        "id": "QVhrFM7sz6nV",
        "outputId": "0958777c-d60b-42b8-e383-ed11f19418df"
      },
      "execution_count": 8,
      "outputs": [
        {
          "output_type": "stream",
          "name": "stdout",
          "text": [
            "accuracy: 0.9685\n",
            "accuracy: 0.9680\n",
            "accuracy: 0.8920\n",
            "accuracy: 0.9015\n",
            "accuracy: 0.9605\n",
            "accuracy: 0.9685\n",
            "accuracy: 0.9685\n",
            "accuracy: 0.9685\n",
            "accuracy: 0.9315\n",
            "accuracy: 0.9705\n",
            "accuracy: 0.9515\n",
            "accuracy: 0.6840\n",
            "accuracy: 0.9070\n",
            "accuracy: 0.5815\n",
            "accuracy: 0.9245\n",
            "accuracy: 0.9950\n",
            "accuracy: 0.8225\n",
            "accuracy: 0.8345\n",
            "accuracy: 0.9670\n",
            "accuracy: 0.7840\n"
          ]
        }
      ]
    },
    {
      "cell_type": "markdown",
      "source": [
        "We see out of 20 runs, only 6 have accuracy of less than  0.9  and only 3 of those have less than  0.8  accuracy. Thus it seems a fair modelling"
      ],
      "metadata": {
        "id": "B90qsZhp0PVO"
      }
    }
  ]
}